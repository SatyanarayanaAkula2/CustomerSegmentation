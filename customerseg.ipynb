{
 "cells": [
  {
   "cell_type": "code",
   "execution_count": 1,
   "id": "89fbe706",
   "metadata": {},
   "outputs": [],
   "source": [
    "import numpy as np\n",
    "import pandas as pd\n",
    "from sklearn.preprocessing import StandardScaler\n",
    "from sklearn.cluster import KMeans\n",
    "import matplotlib.pyplot as plt\n",
    "from sklearn.decomposition import PCA"
   ]
  },
  {
   "cell_type": "code",
   "execution_count": 3,
   "id": "f884fdd7",
   "metadata": {},
   "outputs": [
    {
     "data": {
      "text/plain": [
       "(541909, 8)"
      ]
     },
     "execution_count": 3,
     "metadata": {},
     "output_type": "execute_result"
    }
   ],
   "source": [
    "#load the dataset\n",
    "df=pd.read_csv('./OnlineRetail.csv/OnlineRetail.csv',encoding='latin1')\n",
    "df.shape #knowing the dimensions of the dataset"
   ]
  },
  {
   "cell_type": "code",
   "execution_count": 4,
   "id": "188ad726",
   "metadata": {},
   "outputs": [
    {
     "name": "stdout",
     "output_type": "stream",
     "text": [
      "<class 'pandas.core.frame.DataFrame'>\n",
      "RangeIndex: 541909 entries, 0 to 541908\n",
      "Data columns (total 8 columns):\n",
      " #   Column       Non-Null Count   Dtype  \n",
      "---  ------       --------------   -----  \n",
      " 0   InvoiceNo    541909 non-null  object \n",
      " 1   StockCode    541909 non-null  object \n",
      " 2   Description  540455 non-null  object \n",
      " 3   Quantity     541909 non-null  int64  \n",
      " 4   InvoiceDate  541909 non-null  object \n",
      " 5   UnitPrice    541909 non-null  float64\n",
      " 6   CustomerID   406829 non-null  float64\n",
      " 7   Country      541909 non-null  object \n",
      "dtypes: float64(2), int64(1), object(5)\n",
      "memory usage: 33.1+ MB\n",
      "None\n",
      "Null count InvoiceNo           0\n",
      "StockCode           0\n",
      "Description      1454\n",
      "Quantity            0\n",
      "InvoiceDate         0\n",
      "UnitPrice           0\n",
      "CustomerID     135080\n",
      "Country             0\n",
      "dtype: int64\n",
      "Duplicates  5268\n",
      "unique values of every attribute/feature\n",
      "InvoiceNo\n",
      "573585     1114\n",
      "581219      749\n",
      "581492      731\n",
      "580729      721\n",
      "558475      705\n",
      "           ... \n",
      "581483        1\n",
      "581566        1\n",
      "C581499       1\n",
      "C536383       1\n",
      "C536379       1\n",
      "Name: count, Length: 25900, dtype: int64\n",
      "StockCode\n",
      "85123A    2313\n",
      "22423     2203\n",
      "85099B    2159\n",
      "47566     1727\n",
      "20725     1639\n",
      "          ... \n",
      "85179a       1\n",
      "23617        1\n",
      "90214U       1\n",
      "47591b       1\n",
      "72802c       1\n",
      "Name: count, Length: 4070, dtype: int64\n",
      "Description\n",
      "WHITE HANGING HEART T-LIGHT HOLDER    2369\n",
      "REGENCY CAKESTAND 3 TIER              2200\n",
      "JUMBO BAG RED RETROSPOT               2159\n",
      "PARTY BUNTING                         1727\n",
      "LUNCH BAG RED RETROSPOT               1638\n",
      "                                      ... \n",
      "ANT SILVER TURQUOISE BOUDICCA RING       1\n",
      "Damages                                  1\n",
      "Found by jackie                          1\n",
      "water damaged                            1\n",
      "lost in space                            1\n",
      "Name: count, Length: 4223, dtype: int64\n",
      "Quantity\n",
      " 1       148227\n",
      " 2        81829\n",
      " 12       61063\n",
      " 6        40868\n",
      " 4        38484\n",
      "          ...  \n",
      "-355          1\n",
      "-155          1\n",
      " 1404         1\n",
      " 388          1\n",
      " 490          1\n",
      "Name: count, Length: 722, dtype: int64\n",
      "InvoiceDate\n",
      "10/31/2011 14:41    1114\n",
      "12/8/2011 9:28       749\n",
      "12/9/2011 10:03      731\n",
      "12/5/2011 17:24      721\n",
      "6/29/2011 15:58      705\n",
      "                    ... \n",
      "10/27/2011 10:58       1\n",
      "10/27/2011 12:57       1\n",
      "10/27/2011 12:13       1\n",
      "12/9/2011 11:57        1\n",
      "12/9/2011 11:50        1\n",
      "Name: count, Length: 23260, dtype: int64\n",
      "UnitPrice\n",
      "1.25        50496\n",
      "1.65        38181\n",
      "0.85        28497\n",
      "2.95        27768\n",
      "0.42        24533\n",
      "            ...  \n",
      "11586.50        1\n",
      "254.43          1\n",
      "888.06          1\n",
      "1.07            1\n",
      "0.52            1\n",
      "Name: count, Length: 1630, dtype: int64\n",
      "CustomerID\n",
      "17841.0    7983\n",
      "14911.0    5903\n",
      "14096.0    5128\n",
      "12748.0    4642\n",
      "14606.0    2782\n",
      "           ... \n",
      "17986.0       1\n",
      "13256.0       1\n",
      "18184.0       1\n",
      "13747.0       1\n",
      "15195.0       1\n",
      "Name: count, Length: 4372, dtype: int64\n",
      "Country\n",
      "United Kingdom          495478\n",
      "Germany                   9495\n",
      "France                    8557\n",
      "EIRE                      8196\n",
      "Spain                     2533\n",
      "Netherlands               2371\n",
      "Belgium                   2069\n",
      "Switzerland               2002\n",
      "Portugal                  1519\n",
      "Australia                 1259\n",
      "Norway                    1086\n",
      "Italy                      803\n",
      "Channel Islands            758\n",
      "Finland                    695\n",
      "Cyprus                     622\n",
      "Sweden                     462\n",
      "Unspecified                446\n",
      "Austria                    401\n",
      "Denmark                    389\n",
      "Japan                      358\n",
      "Poland                     341\n",
      "Israel                     297\n",
      "USA                        291\n",
      "Hong Kong                  288\n",
      "Singapore                  229\n",
      "Iceland                    182\n",
      "Canada                     151\n",
      "Greece                     146\n",
      "Malta                      127\n",
      "United Arab Emirates        68\n",
      "European Community          61\n",
      "RSA                         58\n",
      "Lebanon                     45\n",
      "Lithuania                   35\n",
      "Brazil                      32\n",
      "Czech Republic              30\n",
      "Bahrain                     19\n",
      "Saudi Arabia                10\n",
      "Name: count, dtype: int64\n"
     ]
    }
   ],
   "source": [
    "#data preprocessing\n",
    "print(df.info())\n",
    "print('Null count',df.isnull().sum())\n",
    "print(\"Duplicates \",df.duplicated().sum())\n",
    "print(\"unique values of every attribute/feature\")\n",
    "for col in df.select_dtypes(include=['object','int64','float']):\n",
    "  print(df[col].value_counts())"
   ]
  },
  {
   "cell_type": "code",
   "execution_count": 5,
   "id": "4df78db4",
   "metadata": {},
   "outputs": [],
   "source": [
    "#removing null values\n",
    "df.dropna(subset=['Description','CustomerID'],inplace=True)\n",
    "\n",
    "#removing duplicate rows\n",
    "df.drop_duplicates(inplace=True)\n",
    "\n",
    "#dropping irrelevant features\n",
    "df.drop(columns=['StockCode','Description'],inplace=True)\n",
    "\n",
    "df.reset_index(drop=True,inplace=True)"
   ]
  },
  {
   "cell_type": "code",
   "execution_count": 15,
   "id": "52bf8653",
   "metadata": {},
   "outputs": [
    {
     "name": "stdout",
     "output_type": "stream",
     "text": [
      "revised dataset shape (401604, 8)\n",
      "2011-12-11 12:50:00\n"
     ]
    }
   ],
   "source": [
    "print(\"revised dataset shape\",df.shape)\n",
    "df['TotalPrice']=df['Quantity']*df['UnitPrice']\n",
    "#converting object datatypt to datetime datatype\n",
    "df['InvoiceDate']=pd.to_datetime(df['InvoiceDate'])\n",
    "\n",
    "current_date=df['InvoiceDate'].max()+pd.Timedelta(days=2)\n",
    "print(current_date)"
   ]
  },
  {
   "cell_type": "code",
   "execution_count": 16,
   "id": "5bb2f1e9",
   "metadata": {},
   "outputs": [
    {
     "name": "stdout",
     "output_type": "stream",
     "text": [
      "New dataset shape (4372, 3)\n"
     ]
    }
   ],
   "source": [
    "#creating new dataset with features like Recency,Frequency,Monetary\n",
    "df['Recency']=current_date-df['InvoiceDate']\n",
    "new_df=df.groupby('CustomerID').agg({\n",
    "    'InvoiceDate':lambda x:(current_date-x.max()).days,\n",
    "    'InvoiceNo':'nunique',\n",
    "    'TotalPrice':'sum'\n",
    "})\n",
    "new_df.rename(columns={'InvoiceDate':'Recency','InvoiceNo':'frequency','TotalPrice':'monetry'},inplace=True)\n",
    "print(\"New dataset shape\",new_df.shape)"
   ]
  },
  {
   "cell_type": "code",
   "execution_count": 17,
   "id": "ad8ddec3",
   "metadata": {},
   "outputs": [
    {
     "data": {
      "text/plain": [
       "[<matplotlib.lines.Line2D at 0x191ab3c7d90>]"
      ]
     },
     "execution_count": 17,
     "metadata": {},
     "output_type": "execute_result"
    },
    {
     "data": {
      "image/png": "[encoded data removed]",
      "text/plain": [
       "<Figure size 640x480 with 1 Axes>"
      ]
     },
     "metadata": {},
     "output_type": "display_data"
    }
   ],
   "source": [
    "#Actual Kmeans Model building\n",
    "scaler=StandardScaler()#Normalizing the data\n",
    "x=scaler.fit_transform(new_df)\n",
    "\n",
    "wcss=[]\n",
    "high=5\n",
    "for i in range(1,high):\n",
    "  km=KMeans(n_clusters=i)\n",
    "  km.fit_predict(x)\n",
    "  wcss.append(km.inertia_)\n",
    "\n",
    "plt.plot(range(1,high),wcss)#finding best k by plotting within cluster sum of squares(wcss)"
   ]
  },
  {
   "cell_type": "code",
   "execution_count": 18,
   "id": "d24e79b2",
   "metadata": {},
   "outputs": [],
   "source": [
    "#preparing model with 4 clusters\n",
    "kmeans=KMeans(n_clusters=4,random_state=42)\n",
    "new_df['Cluster']=kmeans.fit_predict(x)"
   ]
  },
  {
   "cell_type": "code",
   "execution_count": 19,
   "id": "7b63f3d6",
   "metadata": {},
   "outputs": [
    {
     "data": {
      "image/png": "[encoded data removed]",
      "text/plain": [
       "<Figure size 800x600 with 2 Axes>"
      ]
     },
     "metadata": {},
     "output_type": "display_data"
    }
   ],
   "source": [
    "#visulaizing the model with 2 best features \n",
    "pca=PCA(2)\n",
    "x_pca=pca.fit_transform(x)\n",
    "plt.figure(figsize=(8,6))\n",
    "plt.scatter(x_pca[:,0],x_pca[:,1],c=new_df['Cluster'],cmap='viridis')\n",
    "plt.title('Customer Segmentation(PCA)')\n",
    "plt.xlabel('PCA1')\n",
    "plt.ylabel('PCA2')\n",
    "plt.colorbar(label='Cluster')\n",
    "plt.show()"
   ]
  },
  {
   "cell_type": "code",
   "execution_count": null,
   "id": "637c4b8d",
   "metadata": {},
   "outputs": [],
   "source": []
  },
  {
   "cell_type": "code",
   "execution_count": null,
   "id": "43e35724",
   "metadata": {},
   "outputs": [],
   "source": []
  },
  {
   "cell_type": "code",
   "execution_count": null,
   "id": "229f1caf",
   "metadata": {},
   "outputs": [],
   "source": []
  },
  {
   "cell_type": "code",
   "execution_count": null,
   "id": "7f5daf27",
   "metadata": {},
   "outputs": [],
   "source": []
  },
  {
   "cell_type": "code",
   "execution_count": null,
   "id": "e8e58ed9",
   "metadata": {},
   "outputs": [],
   "source": []
  }
 ],
 "metadata": {
  "kernelspec": {
   "display_name": ".venv",
   "language": "python",
   "name": "python3"
  },
  "language_info": {
   "codemirror_mode": {
    "name": "ipython",
    "version": 3
   },
   "file_extension": ".py",
   "mimetype": "text/x-python",
   "name": "python",
   "nbconvert_exporter": "python",
   "pygments_lexer": "ipython3",
   "version": "3.13.3"
  }
 },
 "nbformat": 4,
 "nbformat_minor": 5
}
